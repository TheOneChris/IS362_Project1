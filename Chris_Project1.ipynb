{
 "cells": [
  {
   "cell_type": "code",
   "execution_count": 1,
   "id": "dc866918",
   "metadata": {},
   "outputs": [
    {
     "data": {
      "text/html": [
       "<div>\n",
       "<style scoped>\n",
       "    .dataframe tbody tr th:only-of-type {\n",
       "        vertical-align: middle;\n",
       "    }\n",
       "\n",
       "    .dataframe tbody tr th {\n",
       "        vertical-align: top;\n",
       "    }\n",
       "\n",
       "    .dataframe thead th {\n",
       "        text-align: right;\n",
       "    }\n",
       "</style>\n",
       "<table border=\"1\" class=\"dataframe\">\n",
       "  <thead>\n",
       "    <tr style=\"text-align: right;\">\n",
       "      <th></th>\n",
       "      <th>Airline</th>\n",
       "      <th>Status</th>\n",
       "      <th>Los Angeles</th>\n",
       "      <th>Phoenix</th>\n",
       "      <th>San Diego</th>\n",
       "      <th>San Francisco</th>\n",
       "      <th>Seattle</th>\n",
       "    </tr>\n",
       "  </thead>\n",
       "  <tbody>\n",
       "    <tr>\n",
       "      <th>0</th>\n",
       "      <td>Alaska</td>\n",
       "      <td>on time</td>\n",
       "      <td>497</td>\n",
       "      <td>221</td>\n",
       "      <td>212</td>\n",
       "      <td>503</td>\n",
       "      <td>1841</td>\n",
       "    </tr>\n",
       "    <tr>\n",
       "      <th>1</th>\n",
       "      <td>Alaska</td>\n",
       "      <td>delayed</td>\n",
       "      <td>62</td>\n",
       "      <td>12</td>\n",
       "      <td>20</td>\n",
       "      <td>102</td>\n",
       "      <td>305</td>\n",
       "    </tr>\n",
       "    <tr>\n",
       "      <th>2</th>\n",
       "      <td>AM West</td>\n",
       "      <td>on time</td>\n",
       "      <td>694</td>\n",
       "      <td>4840</td>\n",
       "      <td>383</td>\n",
       "      <td>320</td>\n",
       "      <td>201</td>\n",
       "    </tr>\n",
       "    <tr>\n",
       "      <th>3</th>\n",
       "      <td>AM West</td>\n",
       "      <td>delayed</td>\n",
       "      <td>117</td>\n",
       "      <td>415</td>\n",
       "      <td>65</td>\n",
       "      <td>129</td>\n",
       "      <td>61</td>\n",
       "    </tr>\n",
       "  </tbody>\n",
       "</table>\n",
       "</div>"
      ],
      "text/plain": [
       "   Airline   Status  Los Angeles  Phoenix  San Diego  San Francisco  Seattle\n",
       "0   Alaska  on time          497      221        212            503     1841\n",
       "1   Alaska  delayed           62       12         20            102      305\n",
       "2  AM West  on time          694     4840        383            320      201\n",
       "3  AM West  delayed          117      415         65            129       61"
      ]
     },
     "execution_count": 1,
     "metadata": {},
     "output_type": "execute_result"
    }
   ],
   "source": [
    "import numpy as np\n",
    "import pandas as pd\n",
    "\n",
    "data = pd.read_csv(\"Chris_Project1.csv\")\n",
    "data"
   ]
  },
  {
   "cell_type": "code",
   "execution_count": 2,
   "id": "d440ab7f",
   "metadata": {},
   "outputs": [
    {
     "data": {
      "text/html": [
       "<div>\n",
       "<style scoped>\n",
       "    .dataframe tbody tr th:only-of-type {\n",
       "        vertical-align: middle;\n",
       "    }\n",
       "\n",
       "    .dataframe tbody tr th {\n",
       "        vertical-align: top;\n",
       "    }\n",
       "\n",
       "    .dataframe thead th {\n",
       "        text-align: right;\n",
       "    }\n",
       "</style>\n",
       "<table border=\"1\" class=\"dataframe\">\n",
       "  <thead>\n",
       "    <tr style=\"text-align: right;\">\n",
       "      <th></th>\n",
       "      <th>Airline</th>\n",
       "      <th>Status</th>\n",
       "      <th>Los Angeles</th>\n",
       "      <th>Phoenix</th>\n",
       "      <th>San Diego</th>\n",
       "      <th>San Francisco</th>\n",
       "      <th>Seattle</th>\n",
       "      <th>Totals</th>\n",
       "    </tr>\n",
       "  </thead>\n",
       "  <tbody>\n",
       "    <tr>\n",
       "      <th>0</th>\n",
       "      <td>Alaska</td>\n",
       "      <td>on time</td>\n",
       "      <td>497</td>\n",
       "      <td>221</td>\n",
       "      <td>212</td>\n",
       "      <td>503</td>\n",
       "      <td>1841</td>\n",
       "      <td>3274</td>\n",
       "    </tr>\n",
       "    <tr>\n",
       "      <th>1</th>\n",
       "      <td>Alaska</td>\n",
       "      <td>delayed</td>\n",
       "      <td>62</td>\n",
       "      <td>12</td>\n",
       "      <td>20</td>\n",
       "      <td>102</td>\n",
       "      <td>305</td>\n",
       "      <td>501</td>\n",
       "    </tr>\n",
       "    <tr>\n",
       "      <th>2</th>\n",
       "      <td>AM West</td>\n",
       "      <td>on time</td>\n",
       "      <td>694</td>\n",
       "      <td>4840</td>\n",
       "      <td>383</td>\n",
       "      <td>320</td>\n",
       "      <td>201</td>\n",
       "      <td>6438</td>\n",
       "    </tr>\n",
       "    <tr>\n",
       "      <th>3</th>\n",
       "      <td>AM West</td>\n",
       "      <td>delayed</td>\n",
       "      <td>117</td>\n",
       "      <td>415</td>\n",
       "      <td>65</td>\n",
       "      <td>129</td>\n",
       "      <td>61</td>\n",
       "      <td>787</td>\n",
       "    </tr>\n",
       "  </tbody>\n",
       "</table>\n",
       "</div>"
      ],
      "text/plain": [
       "   Airline   Status  Los Angeles  Phoenix  San Diego  San Francisco  Seattle  \\\n",
       "0   Alaska  on time          497      221        212            503     1841   \n",
       "1   Alaska  delayed           62       12         20            102      305   \n",
       "2  AM West  on time          694     4840        383            320      201   \n",
       "3  AM West  delayed          117      415         65            129       61   \n",
       "\n",
       "   Totals  \n",
       "0    3274  \n",
       "1     501  \n",
       "2    6438  \n",
       "3     787  "
      ]
     },
     "execution_count": 2,
     "metadata": {},
     "output_type": "execute_result"
    }
   ],
   "source": [
    "data['Totals'] = (data['Los Angeles'] + data['Phoenix'] + data['San Diego'] + data['San Francisco'] + data['Seattle'])\n",
    "data"
   ]
  },
  {
   "cell_type": "code",
   "execution_count": 14,
   "id": "4b416118",
   "metadata": {},
   "outputs": [
    {
     "name": "stdout",
     "output_type": "stream",
     "text": [
      "Total # flights Alaska airlines had = 3775\n",
      "Alaska airline had a delay percentage of = 15.302382406841783%\n"
     ]
    }
   ],
   "source": [
    "Totals= (data['Totals'][0] + data['Totals'][1])\n",
    "DelayPercent= (data['Totals'][1] / data['Totals'][0]*100) \n",
    "print ('Total # flights Alaska airlines had = {}'.format(Totals))\n",
    "print ('Alaska airline had a delay percentage of = {}%'.format(DelayPercent))"
   ]
  },
  {
   "cell_type": "code",
   "execution_count": 13,
   "id": "e4f18fcb",
   "metadata": {},
   "outputs": [
    {
     "name": "stdout",
     "output_type": "stream",
     "text": [
      "Total # flights AM West had = 7225\n",
      "AM West had a delay percentage of = 12.224293258776017\n"
     ]
    }
   ],
   "source": [
    "Totals= (data['Totals'][2] + data['Totals'][3])\n",
    "DelayPercent= (data['Totals'][3] / data['Totals'][2]*100) \n",
    "print ('Total # flights AM West had = {}'.format(Totals))\n",
    "print ('AM West had a delay percentage of = {}%'.format(DelayPercent))"
   ]
  },
  {
   "cell_type": "code",
   "execution_count": null,
   "id": "5fe96183",
   "metadata": {},
   "outputs": [],
   "source": [
    "Alaka airline had a higher percenage of delay with 15.30% compared to AM West with 12.22%.\n",
    "Also AM West had more total flights 7225 compared to Alaska airlines 3775.\n",
    "Which speaks to the Efficiency of AM West also having less percentage of delays.\n"
   ]
  }
 ],
 "metadata": {
  "kernelspec": {
   "display_name": "Python 3",
   "language": "python",
   "name": "python3"
  },
  "language_info": {
   "codemirror_mode": {
    "name": "ipython",
    "version": 3
   },
   "file_extension": ".py",
   "mimetype": "text/x-python",
   "name": "python",
   "nbconvert_exporter": "python",
   "pygments_lexer": "ipython3",
   "version": "3.8.8"
  }
 },
 "nbformat": 4,
 "nbformat_minor": 5
}
